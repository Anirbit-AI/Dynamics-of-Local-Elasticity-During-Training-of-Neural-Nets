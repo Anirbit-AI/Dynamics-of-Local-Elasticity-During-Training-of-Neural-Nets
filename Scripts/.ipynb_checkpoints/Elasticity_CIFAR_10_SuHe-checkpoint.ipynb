{
 "cells": [
  {
   "cell_type": "code",
   "execution_count": 1,
   "metadata": {
    "executionInfo": {
     "elapsed": 3959,
     "status": "ok",
     "timestamp": 1675360215697,
     "user": {
      "displayName": "Anirbit Mukherjee",
      "userId": "11049952771471872621"
     },
     "user_tz": 0
    },
    "id": "VnQampMdrrIb"
   },
   "outputs": [],
   "source": [
    "import torch\n",
    "import torchvision\n",
    "import torchvision.transforms as transforms"
   ]
  },
  {
   "cell_type": "code",
   "execution_count": 2,
   "metadata": {
    "colab": {
     "base_uri": "https://localhost:8080/",
     "height": 233
    },
    "executionInfo": {
     "elapsed": 37439,
     "status": "ok",
     "timestamp": 1675360256575,
     "user": {
      "displayName": "Anirbit Mukherjee",
      "userId": "11049952771471872621"
     },
     "user_tz": 0
    },
    "id": "soabnU9aB-l5",
    "outputId": "2a1805f6-2e56-4c16-8d56-aaa40db94bde"
   },
   "outputs": [
    {
     "name": "stdout",
     "output_type": "stream",
     "text": [
      "\u001b[2K     \u001b[90m━━━━━━━━━━━━━━━━━━━━━━━━━━━━━━━━━━━━━━━━\u001b[0m \u001b[32m2.0/2.0 MB\u001b[0m \u001b[31m24.3 MB/s\u001b[0m eta \u001b[36m0:00:00\u001b[0m00:01\u001b[0m\n",
      "\u001b[?25h  Preparing metadata (setup.py) ... \u001b[?25l\u001b[?25hdone\n",
      "\u001b[2K     \u001b[90m━━━━━━━━━━━━━━━━━━━━━━━━━━━━━━━━━━━━━━━\u001b[0m \u001b[32m184.0/184.0 KB\u001b[0m \u001b[31m9.9 MB/s\u001b[0m eta \u001b[36m0:00:00\u001b[0m\n",
      "\u001b[2K     \u001b[90m━━━━━━━━━━━━━━━━━━━━━━━━━━━━━━━━━━━━━━\u001b[0m \u001b[32m178.9/178.9 KB\u001b[0m \u001b[31m13.8 MB/s\u001b[0m eta \u001b[36m0:00:00\u001b[0m\n",
      "\u001b[2K     \u001b[90m━━━━━━━━━━━━━━━━━━━━━━━━━━━━━━━━━━━━━━━━\u001b[0m \u001b[32m62.7/62.7 KB\u001b[0m \u001b[31m8.2 MB/s\u001b[0m eta \u001b[36m0:00:00\u001b[0m\n",
      "\u001b[2K     \u001b[90m━━━━━━━━━━━━━━━━━━━━━━━━━━━━━━━━━━━━━━\u001b[0m \u001b[32m140.6/140.6 KB\u001b[0m \u001b[31m21.3 MB/s\u001b[0m eta \u001b[36m0:00:00\u001b[0m\n",
      "\u001b[?25h  Building wheel for pathtools (setup.py) ... \u001b[?25l\u001b[?25hdone\n"
     ]
    },
    {
     "name": "stderr",
     "output_type": "stream",
     "text": [
      "ERROR:wandb.jupyter:Failed to detect the name of this notebook, you can set it manually with the WANDB_NOTEBOOK_NAME environment variable to enable code saving.\n"
     ]
    },
    {
     "data": {
      "application/javascript": [
       "\n",
       "        window._wandbApiKey = new Promise((resolve, reject) => {\n",
       "            function loadScript(url) {\n",
       "            return new Promise(function(resolve, reject) {\n",
       "                let newScript = document.createElement(\"script\");\n",
       "                newScript.onerror = reject;\n",
       "                newScript.onload = resolve;\n",
       "                document.body.appendChild(newScript);\n",
       "                newScript.src = url;\n",
       "            });\n",
       "            }\n",
       "            loadScript(\"https://cdn.jsdelivr.net/npm/postmate/build/postmate.min.js\").then(() => {\n",
       "            const iframe = document.createElement('iframe')\n",
       "            iframe.style.cssText = \"width:0;height:0;border:none\"\n",
       "            document.body.appendChild(iframe)\n",
       "            const handshake = new Postmate({\n",
       "                container: iframe,\n",
       "                url: 'https://wandb.ai/authorize'\n",
       "            });\n",
       "            const timeout = setTimeout(() => reject(\"Couldn't auto authenticate\"), 5000)\n",
       "            handshake.then(function(child) {\n",
       "                child.on('authorize', data => {\n",
       "                    clearTimeout(timeout)\n",
       "                    resolve(data)\n",
       "                });\n",
       "            });\n",
       "            })\n",
       "        });\n",
       "    "
      ],
      "text/plain": [
       "<IPython.core.display.Javascript object>"
      ]
     },
     "metadata": {},
     "output_type": "display_data"
    },
    {
     "name": "stderr",
     "output_type": "stream",
     "text": [
      "\u001b[34m\u001b[1mwandb\u001b[0m: Appending key for api.wandb.ai to your netrc file: /root/.netrc\n"
     ]
    },
    {
     "name": "stdout",
     "output_type": "stream",
     "text": [
      "Mounted at /content/drive\n"
     ]
    }
   ],
   "source": [
    "# Using Weights and Biases to track experiments\n",
    "!pip install wandb -qU\n",
    "# Log in to your W&B account\n",
    "import wandb, pickle\n",
    "wandb.login()\n",
    "\n",
    "# Mount google drive to save metrics, plots and S_rel\n",
    "from google.colab import drive\n",
    "drive.mount('/content/drive')\n",
    "path='/content/drive/MyDrive/Collaborations/Avirup/Srel/'"
   ]
  },
  {
   "cell_type": "code",
   "execution_count": null,
   "metadata": {
    "id": "10dZVHJg8AvN"
   },
   "outputs": [],
   "source": [
    "import torch\n",
    "import torch.nn as nn\n",
    "\n",
    "from utils import BasicBlock\n",
    "from utils import Bottleneck\n",
    "from utils import conv1x1\n",
    "from utils import get_model_params\n",
    "from utils import load_pretrained_weights\n",
    "from utils import resnet_params\n",
    "\n",
    "\n",
    "class ResNet(nn.Module):\n",
    "\n",
    "    def __init__(self, layers=None, global_params=None):\n",
    "        super(ResNet, self).__init__()\n",
    "        assert isinstance(layers, tuple), \"blocks_args should be a tuple\"\n",
    "        assert len(layers) > 0, \"layers must be greater than 0\"\n",
    "        norm_layer = global_params.norm_layer\n",
    "        if global_params.norm_layer is None:\n",
    "            norm_layer = nn.Identity\n",
    "        \n",
    "        self._norm_layer = nn.Identity\n",
    "\n",
    "        self.inplanes = 64\n",
    "        self.dilation = 1\n",
    "        if global_params.replace_stride_with_dilation is None:\n",
    "            replace_stride_with_dilation = [False, False, False]\n",
    "        if len(replace_stride_with_dilation) != 3:\n",
    "            raise ValueError(\"replace_stride_with_dilation should be None \"\n",
    "                             \"or a 3-element tuple, got {}\".format(replace_stride_with_dilation))\n",
    "        self.groups = global_params.groups\n",
    "        self.base_width = global_params.width_per_group\n",
    "        self.conv1 = nn.Conv2d(3, self.inplanes, kernel_size=7, stride=2, padding=3,\n",
    "                               bias=False)\n",
    "        self.bn1 = norm_layer(self.inplanes)\n",
    "        self.relu = nn.ReLU(inplace=True)\n",
    "        self.maxpool = nn.MaxPool2d(kernel_size=3, stride=2, padding=1)\n",
    "        self.layer1 = self._make_layer(global_params.block, 64, layers[0])\n",
    "        self.layer2 = self._make_layer(global_params.block, 128, layers[1], stride=2,\n",
    "                                       dilate=replace_stride_with_dilation[0])\n",
    "        self.layer3 = self._make_layer(global_params.block, 256, layers[2], stride=2,\n",
    "                                       dilate=replace_stride_with_dilation[1])\n",
    "        self.layer4 = self._make_layer(global_params.block, 512, layers[3], stride=2,\n",
    "                                       dilate=replace_stride_with_dilation[2])\n",
    "        self.avgpool = nn.AdaptiveAvgPool2d((1, 1))\n",
    "        self.fc = nn.Linear(512 * global_params.block.expansion, global_params.num_classes)\n",
    "\n",
    "        for m in self.modules():\n",
    "            if isinstance(m, nn.Conv2d):\n",
    "                nn.init.kaiming_normal_(m.weight, mode=\"fan_out\", nonlinearity=\"relu\")\n",
    "            elif isinstance(m, (nn.BatchNorm2d, nn.GroupNorm)):\n",
    "                nn.init.constant_(m.weight, 1)\n",
    "                nn.init.constant_(m.bias, 0)\n",
    "\n",
    "        # Zero-initialize the last BN in each residual branch,\n",
    "        # so that the residual branch starts with zeros, and each residual block behaves like an identity.\n",
    "        # This improves the model by 0.2~0.3% according to https://arxiv.org/abs/1706.02677\n",
    "        if global_params.zero_init_residual:\n",
    "            for m in self.modules():\n",
    "                if isinstance(m, Bottleneck):\n",
    "                    nn.init.constant_(m.bn3.weight, 0)\n",
    "                elif isinstance(m, BasicBlock):\n",
    "                    nn.init.constant_(m.bn2.weight, 0)\n",
    "\n",
    "    def _make_layer(self, block, planes, blocks, stride=1, dilate=False):\n",
    "        norm_layer = self._norm_layer\n",
    "        downsample = None\n",
    "        previous_dilation = self.dilation\n",
    "        if dilate:\n",
    "            self.dilation *= stride\n",
    "            stride = 1\n",
    "        if stride != 1 or self.inplanes != planes * block.expansion:\n",
    "            downsample = nn.Sequential(\n",
    "                conv1x1(self.inplanes, planes * block.expansion, stride),\n",
    "                norm_layer(planes * block.expansion),\n",
    "            )\n",
    "\n",
    "        layers = [block(self.inplanes, planes, stride, downsample, self.groups,\n",
    "                        self.base_width, previous_dilation, norm_layer)]\n",
    "        self.inplanes = planes * block.expansion\n",
    "        for _ in range(1, blocks):\n",
    "            layers.append(block(self.inplanes, planes, groups=self.groups,\n",
    "                                base_width=self.base_width, dilation=self.dilation,\n",
    "                                norm_layer=norm_layer))\n",
    "\n",
    "        return nn.Sequential(*layers)\n",
    "\n",
    "    def extract_features(self, inputs):\n",
    "        \"\"\" Returns output of the final convolution layer \"\"\"\n",
    "        x = self.conv1(inputs)\n",
    "        x = self.bn1(x)\n",
    "        x = self.relu(x)\n",
    "        x = self.maxpool(x)\n",
    "\n",
    "        x = self.layer1(x)\n",
    "        x = self.layer2(x)\n",
    "        x = self.layer3(x)\n",
    "        x = self.layer4(x)\n",
    "\n",
    "        x = self.avgpool(x)\n",
    "        return x\n",
    "\n",
    "    def forward(self, inputs):\n",
    "        x = self.conv1(inputs)\n",
    "        x = self.bn1(x)\n",
    "        x = self.relu(x)\n",
    "        x = self.maxpool(x)\n",
    "\n",
    "        x = self.layer1(x)\n",
    "        x = self.layer2(x)\n",
    "        x = self.layer3(x)\n",
    "        x = self.layer4(x)\n",
    "\n",
    "        x = self.avgpool(x)\n",
    "        x = torch.flatten(x, 1)\n",
    "        x = self.fc(x)\n",
    "\n",
    "        return x\n",
    "\n",
    "    @classmethod\n",
    "    def from_name(cls, model_name, override_params=None):\n",
    "        cls._check_model_name_is_valid(model_name)\n",
    "        layers, global_params = get_model_params(model_name, override_params)\n",
    "        return cls(layers, global_params)\n",
    "\n",
    "    @classmethod\n",
    "    def from_pretrained(cls, model_name, num_classes=1000):\n",
    "        model = cls.from_name(model_name, override_params={\"num_classes\": num_classes})\n",
    "        load_pretrained_weights(model, model_name, load_fc=(num_classes == 1000))\n",
    "        return model\n",
    "\n",
    "    @classmethod\n",
    "    def get_image_size(cls, model_name):\n",
    "        cls._check_model_name_is_valid(model_name)\n",
    "        _, res = resnet_params(model_name)\n",
    "        return res\n",
    "\n",
    "    @classmethod\n",
    "    def _check_model_name_is_valid(cls, model_name):\n",
    "        \"\"\" Validates model name. None that pretrained weights are only available for\n",
    "        the first four models (resnet_pytorch{i} for i in 18,34,50,101,152) at the moment. \"\"\"\n",
    "        num_models = [18, 34, 50, 101, 152]\n",
    "        valid_models = [\"resnet\" + str(i) for i in num_models]\n",
    "        if model_name not in valid_models:\n",
    "            raise ValueError(\"model_name should be one of: \" + \", \".join(valid_models))\n"
   ]
  },
  {
   "cell_type": "code",
   "execution_count": 3,
   "metadata": {
    "colab": {
     "base_uri": "https://localhost:8080/",
     "height": 120,
     "referenced_widgets": [
      "538f612fb10c4edea776c3a6b014f72d",
      "d44ba2c8dd334db9acb8ef0410f5f51a",
      "9a85a940454f4189ba076b79580c1534",
      "edc44565d6bf4b6f94b7a84922e55850",
      "b98ea2713b3349b6a11826c54cce0301",
      "fd606054b33c412ea5b4549e27574537",
      "04a1cdd41c1d4c5795850114a4b1cbc7",
      "63df8be03d3a47b78fcc57fe3009bae5",
      "09bb3bb3ca1a424da7d0f71d184ab427",
      "31d6603bd6484ab2a0a109c9acf9416b",
      "cc48a41340704883a054259760599d69"
     ]
    },
    "executionInfo": {
     "elapsed": 11470,
     "status": "ok",
     "timestamp": 1675360269768,
     "user": {
      "displayName": "Anirbit Mukherjee",
      "userId": "11049952771471872621"
     },
     "user_tz": 0
    },
    "id": "xelpf7LgsO27",
    "outputId": "5267fd21-efbb-4438-8d01-18a647c38a00"
   },
   "outputs": [
    {
     "name": "stdout",
     "output_type": "stream",
     "text": [
      "Downloading https://www.cs.toronto.edu/~kriz/cifar-10-python.tar.gz to ./data/cifar-10-python.tar.gz\n"
     ]
    },
    {
     "data": {
      "application/vnd.jupyter.widget-view+json": {
       "model_id": "538f612fb10c4edea776c3a6b014f72d",
       "version_major": 2,
       "version_minor": 0
      },
      "text/plain": [
       "  0%|          | 0/170498071 [00:00<?, ?it/s]"
      ]
     },
     "metadata": {},
     "output_type": "display_data"
    },
    {
     "name": "stdout",
     "output_type": "stream",
     "text": [
      "Extracting ./data/cifar-10-python.tar.gz to ./data\n",
      "Files already downloaded and verified\n",
      "18000\n"
     ]
    }
   ],
   "source": [
    "import os, time\n",
    "import math\n",
    "import random\n",
    "import logging\n",
    "import argparse\n",
    "import numpy as np\n",
    "from tqdm import tqdm\n",
    "from scipy.spatial.distance import pdist,squareform\n",
    "from sklearn.model_selection import train_test_split\n",
    "from torch.utils.data import Subset\n",
    "from torch import linalg as LA\n",
    "from random import randint\n",
    "import torchvision\n",
    "import torchvision.transforms as transforms\n",
    "\n",
    "import torchvision.models as models\n",
    "import collections\n",
    "import torch\n",
    "import torch.optim as optim\n",
    "import torch.nn as nn\n",
    "import torch.nn.functional as F\n",
    "import torch.backends.cudnn as cudnn\n",
    "import matplotlib.pyplot as plt\n",
    "import torchvision.models as models\n",
    "\n",
    "torch.multiprocessing.set_sharing_strategy('file_system')\n",
    "def moving_average(x, w):\n",
    "    return np.convolve(x, np.ones(w), 'valid') / w\n",
    "\n",
    "def seed_everything(seed=1234):\n",
    "    random.seed(seed)\n",
    "    os.environ['PYTHONHASHSEED'] = str(seed)\n",
    "    np.random.seed(seed)\n",
    "    torch.manual_seed(seed)\n",
    "    torch.cuda.manual_seed(seed)\n",
    "    torch.backends.cudnn.deterministic = True\n",
    "    \n",
    "seed_everything()\n",
    "device = 'cuda' if torch.cuda.is_available() else 'cpu'\n",
    "\n",
    "\n",
    "transform_train = transforms.Compose([\n",
    "    transforms.RandomCrop(32, padding=4),\n",
    "    transforms.RandomHorizontalFlip(),\n",
    "    transforms.ToTensor(),\n",
    "    transforms.Normalize((0.4914, 0.4822, 0.4465), (0.2023, 0.1994, 0.2010)),\n",
    "])\n",
    "\n",
    "trainset = torchvision.datasets.CIFAR10(\n",
    "    root='./data', train=True, download=True, transform=transform_train)\n",
    "trainloader_main = torch.utils.data.DataLoader(\n",
    "    trainset, batch_size=1, shuffle=True)#, num_workers=0)\n",
    "\n",
    "transform_test = transforms.Compose([\n",
    "        transforms.ToTensor(),\n",
    "        transforms.Normalize((0.4914, 0.4822, 0.4465), (0.2023, 0.1994, 0.2010)),\n",
    "    ])\n",
    "\n",
    "\n",
    "testset = torchvision.datasets.CIFAR10(\n",
    "    root='./data', train=False, download=True, transform=transform_test)\n",
    "testloader_main = torch.utils.data.DataLoader(\n",
    "    trainset, batch_size=1, shuffle=True)#, num_workers=0)\n",
    "\n",
    "#class_labels = ('0','1','2','3','4','5','6','7','8','9')#('plane', 'car', 'bird', 'cat', 'deer',\n",
    "           #'dog', 'frog', 'horse', 'ship', 'truck')\n",
    "\n",
    "\n",
    "data_dict = {}\n",
    "class_size=5000\n",
    "test_class = 1000\n",
    "flag=0\n",
    "class_limit =3#10\n",
    "class_map={0:0,1:1,2:8}#{0:0,1:1,2:2,3:3,4:4,5:5,6:6,7:7,8:8,9:9}#{0:8,1:3,2:9}#{0:0,1:1,2:2,3:3,4:4,5:5,6:6,7:7,8:8,9:9}#{0:1,1:2,2:9}\n",
    "\n",
    "batch_size=256\n",
    "num_examples = class_size*class_limit\n",
    "\n",
    "test_length = class_limit*test_class\n",
    "train_length = num_examples\n",
    "print(train_length+test_length)"
   ]
  },
  {
   "cell_type": "code",
   "execution_count": null,
   "metadata": {
    "colab": {
     "base_uri": "https://localhost:8080/",
     "height": 1000,
     "referenced_widgets": [
      "4b16d9cb42584944aee61c0fc096a275",
      "8854b871741244b28ebd24e7be66244e",
      "52b718ca674b47f8ad7c95e019f3fc97",
      "f3239910d3a8495597e2b92f5be25cbb",
      "ca741d9c1ccf4b0daa461bf895da1e68",
      "f3b797c9de5d4f7d85b4e22ba4f9333d",
      "6d63c7e7c65c46a8add04067f741e968",
      "ec977267dcae4aae908d7f969a4dbf53",
      "bd8d510c2ecb449f9438dcdb7447aaf5",
      "83936d9f6ed14993891a88b61dd2d84f",
      "146d0886b61642e98d69ebd36fd632a1",
      "8daea246343b46ef8f12892eff7a5f60",
      "101bed916a954f6ab246abcd883a6833",
      "180baf86d9dd420e9292b7176a60a682",
      "fe7dbcd97d7e4ece9057b0df07db0244",
      "efad282794724640bbc58cc680d609fc"
     ]
    },
    "executionInfo": {
     "elapsed": 5744077,
     "status": "ok",
     "timestamp": 1673451865532,
     "user": {
      "displayName": "Anirbit Mukherjee",
      "userId": "11049952771471872621"
     },
     "user_tz": 0
    },
    "id": "0sOzjr-lrrzE",
    "outputId": "49fe0893-2187-42e6-ee3c-e6d09d683a4e"
   },
   "outputs": [
    {
     "name": "stderr",
     "output_type": "stream",
     "text": [
      "\u001b[34m\u001b[1mwandb\u001b[0m: Currently logged in as: \u001b[33manirbit-research\u001b[0m. Use \u001b[1m`wandb login --relogin`\u001b[0m to force relogin\n"
     ]
    },
    {
     "name": "stdout",
     "output_type": "stream",
     "text": [
      "[(0, 0), (1, 0), (2, 0), (1, 1), (0, 1), (2, 1), (2, 2), (0, 2), (1, 2)]\n"
     ]
    },
    {
     "data": {
      "text/html": [
       "Tracking run with wandb version 0.13.8"
      ],
      "text/plain": [
       "<IPython.core.display.HTML object>"
      ]
     },
     "metadata": {},
     "output_type": "display_data"
    },
    {
     "data": {
      "text/html": [
       "Run data is saved locally in <code>/content/wandb/run-20230111_140841-zd7u1mka</code>"
      ],
      "text/plain": [
       "<IPython.core.display.HTML object>"
      ]
     },
     "metadata": {},
     "output_type": "display_data"
    },
    {
     "data": {
      "text/html": [
       "Syncing run <strong><a href=\"https://wandb.ai/anirbit-research/Local%20Elasticity/runs/zd7u1mka\" target=\"_blank\">Experiment_SuHe_CIFAR_1</a></strong> to <a href=\"https://wandb.ai/anirbit-research/Local%20Elasticity\" target=\"_blank\">Weights & Biases</a> (<a href=\"https://wandb.me/run\" target=\"_blank\">docs</a>)<br/>"
      ],
      "text/plain": [
       "<IPython.core.display.HTML object>"
      ]
     },
     "metadata": {},
     "output_type": "display_data"
    },
    {
     "data": {
      "text/html": [
       " View project at <a href=\"https://wandb.ai/anirbit-research/Local%20Elasticity\" target=\"_blank\">https://wandb.ai/anirbit-research/Local%20Elasticity</a>"
      ],
      "text/plain": [
       "<IPython.core.display.HTML object>"
      ]
     },
     "metadata": {},
     "output_type": "display_data"
    },
    {
     "data": {
      "text/html": [
       " View run at <a href=\"https://wandb.ai/anirbit-research/Local%20Elasticity/runs/zd7u1mka\" target=\"_blank\">https://wandb.ai/anirbit-research/Local%20Elasticity/runs/zd7u1mka</a>"
      ],
      "text/plain": [
       "<IPython.core.display.HTML object>"
      ]
     },
     "metadata": {},
     "output_type": "display_data"
    },
    {
     "name": "stdout",
     "output_type": "stream",
     "text": [
      "{0: [], 1: [], 2: []}\n",
      "dict_keys([0, 1, 2])\n",
      "EPOCH 0\n",
      "\n",
      "Epoch: 0\n"
     ]
    },
    {
     "name": "stderr",
     "output_type": "stream",
     "text": [
      "<timed exec>:70: UserWarning: Implicit dimension choice for softmax has been deprecated. Change the call to include dim=X as an argument.\n"
     ]
    },
    {
     "name": "stdout",
     "output_type": "stream",
     "text": [
      "train_loss is 0.904 after epochs 0\n",
      "train_acc is 0.571 after epochs 0\n",
      "test_loss is 0.790 after epochs 0\n",
      "test_acc is 0.653 after epochs 0\n",
      "Time Elapsed: 267.93154096603394\n",
      "EPOCH 1\n",
      "\n",
      "Epoch: 1\n",
      "train_loss is 0.732 after epochs 1\n",
      "train_acc is 0.674 after epochs 1\n",
      "test_loss is 0.716 after epochs 1\n",
      "test_acc is 0.685 after epochs 1\n",
      "Time Elapsed: 260.3303897380829\n",
      "EPOCH 2\n",
      "\n",
      "Epoch: 2\n",
      "train_loss is 0.626 after epochs 2\n",
      "train_acc is 0.734 after epochs 2\n",
      "test_loss is 0.612 after epochs 2\n",
      "test_acc is 0.744 after epochs 2\n",
      "Time Elapsed: 259.8733606338501\n",
      "EPOCH 3\n",
      "\n",
      "Epoch: 3\n",
      "train_loss is 0.553 after epochs 3\n",
      "train_acc is 0.772 after epochs 3\n",
      "test_loss is 0.639 after epochs 3\n",
      "test_acc is 0.736 after epochs 3\n",
      "Time Elapsed: 260.8516502380371\n",
      "EPOCH 4\n",
      "\n",
      "Epoch: 4\n",
      "train_loss is 0.484 after epochs 4\n",
      "train_acc is 0.807 after epochs 4\n",
      "test_loss is 0.561 after epochs 4\n",
      "test_acc is 0.773 after epochs 4\n",
      "Time Elapsed: 260.4046618938446\n",
      "EPOCH 5\n",
      "\n",
      "Epoch: 5\n",
      "train_loss is 0.434 after epochs 5\n",
      "train_acc is 0.825 after epochs 5\n",
      "test_loss is 0.533 after epochs 5\n",
      "test_acc is 0.789 after epochs 5\n",
      "Time Elapsed: 260.8706285953522\n",
      "EPOCH 6\n",
      "\n",
      "Epoch: 6\n",
      "train_loss is 0.372 after epochs 6\n",
      "train_acc is 0.855 after epochs 6\n",
      "test_loss is 0.536 after epochs 6\n",
      "test_acc is 0.796 after epochs 6\n",
      "Time Elapsed: 260.3224949836731\n"
     ]
    },
    {
     "data": {
      "text/html": [
       "Waiting for W&B process to finish... <strong style=\"color:green\">(success).</strong>"
      ],
      "text/plain": [
       "<IPython.core.display.HTML object>"
      ]
     },
     "metadata": {},
     "output_type": "display_data"
    },
    {
     "data": {
      "application/vnd.jupyter.widget-view+json": {
       "model_id": "4b16d9cb42584944aee61c0fc096a275",
       "version_major": 2,
       "version_minor": 0
      },
      "text/plain": [
       "VBox(children=(Label(value='0.001 MB of 0.001 MB uploaded (0.000 MB deduped)\\r'), FloatProgress(value=1.0, max…"
      ]
     },
     "metadata": {},
     "output_type": "display_data"
    },
    {
     "data": {
      "text/html": [
       "<style>\n",
       "    table.wandb td:nth-child(1) { padding: 0 10px; text-align: left ; width: auto;} td:nth-child(2) {text-align: left ; width: 100%}\n",
       "    .wandb-row { display: flex; flex-direction: row; flex-wrap: wrap; justify-content: flex-start; width: 100% }\n",
       "    .wandb-col { display: flex; flex-direction: column; flex-basis: 100%; flex: 1; padding: 10px; }\n",
       "    </style>\n",
       "<div class=\"wandb-row\"><div class=\"wandb-col\"><h3>Run history:</h3><br/><table class=\"wandb\"><tr><td>test_acc</td><td>▁▃▅▅▇██</td></tr><tr><td>test_loss</td><td>█▆▃▄▂▁▁</td></tr><tr><td>train_acc</td><td>▁▄▅▆▇▇█</td></tr><tr><td>train_loss</td><td>█▆▄▃▂▂▁</td></tr></table><br/></div><div class=\"wandb-col\"><h3>Run summary:</h3><br/><table class=\"wandb\"><tr><td>test_acc</td><td>0.79616</td></tr><tr><td>test_loss</td><td>0.53562</td></tr><tr><td>train_acc</td><td>0.8554</td></tr><tr><td>train_loss</td><td>0.37193</td></tr></table><br/></div></div>"
      ],
      "text/plain": [
       "<IPython.core.display.HTML object>"
      ]
     },
     "metadata": {},
     "output_type": "display_data"
    },
    {
     "data": {
      "text/html": [
       " View run <strong style=\"color:#cdcd00\">Experiment_SuHe_CIFAR_1</strong> at: <a href=\"https://wandb.ai/anirbit-research/Local%20Elasticity/runs/zd7u1mka\" target=\"_blank\">https://wandb.ai/anirbit-research/Local%20Elasticity/runs/zd7u1mka</a><br/>Synced 5 W&B file(s), 0 media file(s), 0 artifact file(s) and 0 other file(s)"
      ],
      "text/plain": [
       "<IPython.core.display.HTML object>"
      ]
     },
     "metadata": {},
     "output_type": "display_data"
    },
    {
     "data": {
      "text/html": [
       "Find logs at: <code>./wandb/run-20230111_140841-zd7u1mka/logs</code>"
      ],
      "text/plain": [
       "<IPython.core.display.HTML object>"
      ]
     },
     "metadata": {},
     "output_type": "display_data"
    },
    {
     "data": {
      "application/vnd.jupyter.widget-view+json": {
       "model_id": "bd8d510c2ecb449f9438dcdb7447aaf5",
       "version_major": 2,
       "version_minor": 0
      },
      "text/plain": [
       "VBox(children=(Label(value='Waiting for wandb.init()...\\r'), FloatProgress(value=0.01666989544999827, max=1.0)…"
      ]
     },
     "metadata": {},
     "output_type": "display_data"
    },
    {
     "data": {
      "text/html": [
       "Tracking run with wandb version 0.13.8"
      ],
      "text/plain": [
       "<IPython.core.display.HTML object>"
      ]
     },
     "metadata": {},
     "output_type": "display_data"
    },
    {
     "data": {
      "text/html": [
       "Run data is saved locally in <code>/content/wandb/run-20230111_144041-dg1spisn</code>"
      ],
      "text/plain": [
       "<IPython.core.display.HTML object>"
      ]
     },
     "metadata": {},
     "output_type": "display_data"
    },
    {
     "data": {
      "text/html": [
       "Syncing run <strong><a href=\"https://wandb.ai/anirbit-research/Local%20Elasticity/runs/dg1spisn\" target=\"_blank\">Experiment_SuHe_CIFAR_2</a></strong> to <a href=\"https://wandb.ai/anirbit-research/Local%20Elasticity\" target=\"_blank\">Weights & Biases</a> (<a href=\"https://wandb.me/run\" target=\"_blank\">docs</a>)<br/>"
      ],
      "text/plain": [
       "<IPython.core.display.HTML object>"
      ]
     },
     "metadata": {},
     "output_type": "display_data"
    },
    {
     "data": {
      "text/html": [
       " View project at <a href=\"https://wandb.ai/anirbit-research/Local%20Elasticity\" target=\"_blank\">https://wandb.ai/anirbit-research/Local%20Elasticity</a>"
      ],
      "text/plain": [
       "<IPython.core.display.HTML object>"
      ]
     },
     "metadata": {},
     "output_type": "display_data"
    },
    {
     "data": {
      "text/html": [
       " View run at <a href=\"https://wandb.ai/anirbit-research/Local%20Elasticity/runs/dg1spisn\" target=\"_blank\">https://wandb.ai/anirbit-research/Local%20Elasticity/runs/dg1spisn</a>"
      ],
      "text/plain": [
       "<IPython.core.display.HTML object>"
      ]
     },
     "metadata": {},
     "output_type": "display_data"
    },
    {
     "name": "stdout",
     "output_type": "stream",
     "text": [
      "{0: [], 1: [], 2: []}\n",
      "dict_keys([0, 1, 2])\n",
      "EPOCH 0\n",
      "\n",
      "Epoch: 0\n",
      "train_loss is 0.917 after epochs 0\n",
      "train_acc is 0.558 after epochs 0\n",
      "test_loss is 0.790 after epochs 0\n",
      "test_acc is 0.648 after epochs 0\n",
      "Time Elapsed: 259.77197074890137\n",
      "EPOCH 1\n",
      "\n",
      "Epoch: 1\n",
      "train_loss is 0.745 after epochs 1\n",
      "train_acc is 0.670 after epochs 1\n",
      "test_loss is 0.694 after epochs 1\n",
      "test_acc is 0.701 after epochs 1\n",
      "Time Elapsed: 260.03717160224915\n",
      "EPOCH 2\n",
      "\n",
      "Epoch: 2\n",
      "train_loss is 0.643 after epochs 2\n",
      "train_acc is 0.727 after epochs 2\n",
      "test_loss is 0.613 after epochs 2\n",
      "test_acc is 0.744 after epochs 2\n",
      "Time Elapsed: 259.630850315094\n",
      "EPOCH 3\n",
      "\n",
      "Epoch: 3\n",
      "train_loss is 0.563 after epochs 3\n",
      "train_acc is 0.767 after epochs 3\n",
      "test_loss is 0.611 after epochs 3\n",
      "test_acc is 0.755 after epochs 3\n",
      "Time Elapsed: 259.79618859291077\n",
      "EPOCH 4\n",
      "\n",
      "Epoch: 4\n",
      "train_loss is 0.512 after epochs 4\n",
      "train_acc is 0.793 after epochs 4\n",
      "test_loss is 0.568 after epochs 4\n",
      "test_acc is 0.767 after epochs 4\n",
      "Time Elapsed: 259.8409559726715\n",
      "EPOCH 5\n",
      "\n",
      "Epoch: 5\n",
      "train_loss is 0.423 after epochs 5\n",
      "train_acc is 0.832 after epochs 5\n",
      "test_loss is 0.569 after epochs 5\n",
      "test_acc is 0.770 after epochs 5\n",
      "Time Elapsed: 260.46240305900574\n",
      "EPOCH 6\n",
      "\n",
      "Epoch: 6\n",
      "train_loss is 0.375 after epochs 6\n",
      "train_acc is 0.853 after epochs 6\n",
      "test_loss is 0.593 after epochs 6\n",
      "test_acc is 0.773 after epochs 6\n",
      "Time Elapsed: 260.0791127681732\n"
     ]
    },
    {
     "data": {
      "text/html": [
       "Waiting for W&B process to finish... <strong style=\"color:green\">(success).</strong>"
      ],
      "text/plain": [
       "<IPython.core.display.HTML object>"
      ]
     },
     "metadata": {},
     "output_type": "display_data"
    },
    {
     "data": {
      "text/html": [
       "<style>\n",
       "    table.wandb td:nth-child(1) { padding: 0 10px; text-align: left ; width: auto;} td:nth-child(2) {text-align: left ; width: 100%}\n",
       "    .wandb-row { display: flex; flex-direction: row; flex-wrap: wrap; justify-content: flex-start; width: 100% }\n",
       "    .wandb-col { display: flex; flex-direction: column; flex-basis: 100%; flex: 1; padding: 10px; }\n",
       "    </style>\n",
       "<div class=\"wandb-row\"><div class=\"wandb-col\"><h3>Run history:</h3><br/><table class=\"wandb\"><tr><td>test_acc</td><td>▁▄▆▇███</td></tr><tr><td>test_loss</td><td>█▅▂▂▁▁▂</td></tr><tr><td>train_acc</td><td>▁▄▅▆▇██</td></tr><tr><td>train_loss</td><td>█▆▄▃▃▂▁</td></tr></table><br/></div><div class=\"wandb-col\"><h3>Run summary:</h3><br/><table class=\"wandb\"><tr><td>test_acc</td><td>0.77308</td></tr><tr><td>test_loss</td><td>0.59296</td></tr><tr><td>train_acc</td><td>0.85264</td></tr><tr><td>train_loss</td><td>0.37476</td></tr></table><br/></div></div>"
      ],
      "text/plain": [
       "<IPython.core.display.HTML object>"
      ]
     },
     "metadata": {},
     "output_type": "display_data"
    },
    {
     "data": {
      "text/html": [
       " View run <strong style=\"color:#cdcd00\">Experiment_SuHe_CIFAR_2</strong> at: <a href=\"https://wandb.ai/anirbit-research/Local%20Elasticity/runs/dg1spisn\" target=\"_blank\">https://wandb.ai/anirbit-research/Local%20Elasticity/runs/dg1spisn</a><br/>Synced 5 W&B file(s), 0 media file(s), 0 artifact file(s) and 0 other file(s)"
      ],
      "text/plain": [
       "<IPython.core.display.HTML object>"
      ]
     },
     "metadata": {},
     "output_type": "display_data"
    },
    {
     "data": {
      "text/html": [
       "Find logs at: <code>./wandb/run-20230111_144041-dg1spisn/logs</code>"
      ],
      "text/plain": [
       "<IPython.core.display.HTML object>"
      ]
     },
     "metadata": {},
     "output_type": "display_data"
    },
    {
     "data": {
      "text/html": [
       "Tracking run with wandb version 0.13.8"
      ],
      "text/plain": [
       "<IPython.core.display.HTML object>"
      ]
     },
     "metadata": {},
     "output_type": "display_data"
    },
    {
     "data": {
      "text/html": [
       "Run data is saved locally in <code>/content/wandb/run-20230111_151230-xnfjsof8</code>"
      ],
      "text/plain": [
       "<IPython.core.display.HTML object>"
      ]
     },
     "metadata": {},
     "output_type": "display_data"
    },
    {
     "data": {
      "text/html": [
       "Syncing run <strong><a href=\"https://wandb.ai/anirbit-research/Local%20Elasticity/runs/xnfjsof8\" target=\"_blank\">Experiment_SuHe_CIFAR_3</a></strong> to <a href=\"https://wandb.ai/anirbit-research/Local%20Elasticity\" target=\"_blank\">Weights & Biases</a> (<a href=\"https://wandb.me/run\" target=\"_blank\">docs</a>)<br/>"
      ],
      "text/plain": [
       "<IPython.core.display.HTML object>"
      ]
     },
     "metadata": {},
     "output_type": "display_data"
    },
    {
     "data": {
      "text/html": [
       " View project at <a href=\"https://wandb.ai/anirbit-research/Local%20Elasticity\" target=\"_blank\">https://wandb.ai/anirbit-research/Local%20Elasticity</a>"
      ],
      "text/plain": [
       "<IPython.core.display.HTML object>"
      ]
     },
     "metadata": {},
     "output_type": "display_data"
    },
    {
     "data": {
      "text/html": [
       " View run at <a href=\"https://wandb.ai/anirbit-research/Local%20Elasticity/runs/xnfjsof8\" target=\"_blank\">https://wandb.ai/anirbit-research/Local%20Elasticity/runs/xnfjsof8</a>"
      ],
      "text/plain": [
       "<IPython.core.display.HTML object>"
      ]
     },
     "metadata": {},
     "output_type": "display_data"
    },
    {
     "name": "stdout",
     "output_type": "stream",
     "text": [
      "{0: [], 1: [], 2: []}\n",
      "dict_keys([0, 1, 2])\n",
      "EPOCH 0\n",
      "\n",
      "Epoch: 0\n",
      "train_loss is 0.910 after epochs 0\n",
      "train_acc is 0.562 after epochs 0\n",
      "test_loss is 0.815 after epochs 0\n",
      "test_acc is 0.631 after epochs 0\n",
      "Time Elapsed: 260.77850890159607\n",
      "EPOCH 1\n",
      "\n",
      "Epoch: 1\n",
      "train_loss is 0.716 after epochs 1\n",
      "train_acc is 0.693 after epochs 1\n",
      "test_loss is 0.659 after epochs 1\n",
      "test_acc is 0.718 after epochs 1\n",
      "Time Elapsed: 261.40902185440063\n",
      "EPOCH 2\n",
      "\n",
      "Epoch: 2\n",
      "train_loss is 0.610 after epochs 2\n",
      "train_acc is 0.746 after epochs 2\n",
      "test_loss is 0.604 after epochs 2\n",
      "test_acc is 0.745 after epochs 2\n",
      "Time Elapsed: 260.8579580783844\n",
      "EPOCH 3\n",
      "\n",
      "Epoch: 3\n",
      "train_loss is 0.541 after epochs 3\n",
      "train_acc is 0.781 after epochs 3\n",
      "test_loss is 0.572 after epochs 3\n",
      "test_acc is 0.765 after epochs 3\n",
      "Time Elapsed: 261.0383870601654\n",
      "EPOCH 4\n",
      "\n",
      "Epoch: 4\n",
      "train_loss is 0.503 after epochs 4\n",
      "train_acc is 0.798 after epochs 4\n",
      "test_loss is 0.558 after epochs 4\n",
      "test_acc is 0.772 after epochs 4\n",
      "Time Elapsed: 260.9941132068634\n",
      "EPOCH 5\n",
      "\n",
      "Epoch: 5\n",
      "train_loss is 0.435 after epochs 5\n",
      "train_acc is 0.829 after epochs 5\n",
      "test_loss is 0.524 after epochs 5\n",
      "test_acc is 0.786 after epochs 5\n",
      "Time Elapsed: 260.7714054584503\n",
      "EPOCH 6\n",
      "\n",
      "Epoch: 6\n",
      "train_loss is 0.373 after epochs 6\n",
      "train_acc is 0.856 after epochs 6\n",
      "test_loss is 0.626 after epochs 6\n",
      "test_acc is 0.743 after epochs 6\n",
      "Time Elapsed: 260.8548574447632\n"
     ]
    },
    {
     "data": {
      "text/html": [
       "Waiting for W&B process to finish... <strong style=\"color:green\">(success).</strong>"
      ],
      "text/plain": [
       "<IPython.core.display.HTML object>"
      ]
     },
     "metadata": {},
     "output_type": "display_data"
    },
    {
     "data": {
      "text/html": [
       "<style>\n",
       "    table.wandb td:nth-child(1) { padding: 0 10px; text-align: left ; width: auto;} td:nth-child(2) {text-align: left ; width: 100%}\n",
       "    .wandb-row { display: flex; flex-direction: row; flex-wrap: wrap; justify-content: flex-start; width: 100% }\n",
       "    .wandb-col { display: flex; flex-direction: column; flex-basis: 100%; flex: 1; padding: 10px; }\n",
       "    </style>\n",
       "<div class=\"wandb-row\"><div class=\"wandb-col\"><h3>Run history:</h3><br/><table class=\"wandb\"><tr><td>test_acc</td><td>▁▅▆▇▇█▆</td></tr><tr><td>test_loss</td><td>█▄▃▂▂▁▃</td></tr><tr><td>train_acc</td><td>▁▄▅▆▇▇█</td></tr><tr><td>train_loss</td><td>█▅▄▃▃▂▁</td></tr></table><br/></div><div class=\"wandb-col\"><h3>Run summary:</h3><br/><table class=\"wandb\"><tr><td>test_acc</td><td>0.74254</td></tr><tr><td>test_loss</td><td>0.62557</td></tr><tr><td>train_acc</td><td>0.85648</td></tr><tr><td>train_loss</td><td>0.37342</td></tr></table><br/></div></div>"
      ],
      "text/plain": [
       "<IPython.core.display.HTML object>"
      ]
     },
     "metadata": {},
     "output_type": "display_data"
    },
    {
     "data": {
      "text/html": [
       " View run <strong style=\"color:#cdcd00\">Experiment_SuHe_CIFAR_3</strong> at: <a href=\"https://wandb.ai/anirbit-research/Local%20Elasticity/runs/xnfjsof8\" target=\"_blank\">https://wandb.ai/anirbit-research/Local%20Elasticity/runs/xnfjsof8</a><br/>Synced 5 W&B file(s), 0 media file(s), 0 artifact file(s) and 0 other file(s)"
      ],
      "text/plain": [
       "<IPython.core.display.HTML object>"
      ]
     },
     "metadata": {},
     "output_type": "display_data"
    },
    {
     "data": {
      "text/html": [
       "Find logs at: <code>./wandb/run-20230111_151230-xnfjsof8/logs</code>"
      ],
      "text/plain": [
       "<IPython.core.display.HTML object>"
      ]
     },
     "metadata": {},
     "output_type": "display_data"
    },
    {
     "name": "stdout",
     "output_type": "stream",
     "text": [
      "CPU times: user 1h 57min 32s, sys: 50.9 s, total: 1h 58min 23s\n",
      "Wall time: 1h 35min 43s\n"
     ]
    }
   ],
   "source": [
    "%%time \n",
    "lr = 0.0001\n",
    "epsilon = 1e-8\n",
    "#criterion = nn.MSELoss()\n",
    "criterion = nn.CrossEntropyLoss()\n",
    "def l2_norm(a):\n",
    "  a = torch.square(a).sum(-1)\n",
    "  a=torch.sqrt(a).mean()\n",
    "  return a\n",
    "\n",
    "\n",
    "def get_srel(model,x,y,x1):\n",
    "    model_copy = ResNet.from_name(\"resnet18\")\n",
    "    num_ftrs = model_copy.fc.in_features\n",
    "    model_copy.fc = nn.Linear(num_ftrs, class_limit)\n",
    "    model_copy = model_copy.to(device)\n",
    "\n",
    "    model_copy.load_state_dict(model.state_dict())\n",
    "    #print(x.shape)\n",
    "\n",
    "    with torch.no_grad():\n",
    "        model_copy.eval()\n",
    "        y1 = model_copy(x1.unsqueeze(0).to(device))\n",
    "\n",
    "    optim_clone = optim.Adam(model_copy.parameters(), lr=lr)\n",
    "    model_copy.train()\n",
    "    y_pred = model_copy(x.unsqueeze(0).to(device))\n",
    "    loss = criterion(y_pred,torch.argmax(y,dim=-1).to(device).unsqueeze(0))\n",
    "\n",
    "    loss.backward()\n",
    "    optim_clone.step()\n",
    "\n",
    "    with torch.no_grad():\n",
    "        model_copy.eval()\n",
    "        denominator = torch.sqrt(torch.nn.functional.mse_loss(torch.nn.functional.softmax(model_copy(x.unsqueeze(0).to(device))),torch.nn.functional.softmax(y_pred)))+epsilon\n",
    "        numerator = torch.sqrt(torch.nn.functional.mse_loss(torch.nn.functional.softmax(model_copy(x1.unsqueeze(0).to(device))),torch.nn.functional.softmax(y1)))\n",
    "        # For L1 definition\n",
    "        ## denominator = torch.nn.functional.l1_loss(torch.nn.functional.softmax(model_copy(x.unsqueeze(0).to(device))),torch.nn.functional.softmax(y_pred))+epsilon\n",
    "        ## numerator = torch.nn.functional.l1_loss(torch.nn.functional.softmax(model_copy(x1.unsqueeze(0).to(device))),torch.nn.functional.softmax(y1))\n",
    "\n",
    "    s_rel = (numerator/denominator).mean().item()\n",
    "\n",
    "    return s_rel\n",
    "\n",
    "def get_srel_denom(model,x,y):\n",
    "    model_copy = ResNet.from_name(\"resnet18\")\n",
    "    num_ftrs = model_copy.fc.in_features\n",
    "    model_copy.fc = nn.Linear(num_ftrs, class_limit)\n",
    "    model_copy = model_copy.to(device)\n",
    "\n",
    "    model_copy.load_state_dict(model.state_dict())\n",
    "    \n",
    "    optim_clone = optim.Adam(model_copy.parameters(), lr=lr)\n",
    "    model_copy.train()\n",
    "    y_pred = model_copy(x.unsqueeze(0).to(device))\n",
    "    loss = criterion(y_pred,torch.argmax(y,dim=-1).to(device).unsqueeze(0))\n",
    "\n",
    "    loss.backward()\n",
    "    optim_clone.step()\n",
    "    with torch.no_grad():\n",
    "        model_copy.eval()\n",
    "        denominator = torch.sqrt(torch.nn.functional.mse_loss(torch.nn.functional.softmax(model_copy(x.unsqueeze(0).to(device))),torch.nn.functional.softmax(y_pred)))+epsilon\n",
    "        # For L1 definition\n",
    "        ## denominator = torch.nn.functional.l1_loss(torch.nn.functional.softmax(model_copy(x.unsqueeze(0).to(device))),torch.nn.functional.softmax(y_pred))+epsilon\n",
    "    return model_copy, denominator # model_copy w+(x)\n",
    "\n",
    "train_idx = [i for i in range(train_length)]\n",
    "repeat_k = 20\n",
    "\n",
    "pairs=[]\n",
    "dictionary={}\n",
    "max_x1 = randint(1,len(train_idx)-1)\n",
    "\n",
    "\n",
    "        \n",
    "plot_order=[]\n",
    "classes = [c for c in range(class_limit)]\n",
    "class_pair = {}\n",
    "for c in classes:\n",
    "    class_pair[c] = [p for p in range(class_limit) if p!=c]\n",
    "\n",
    "\n",
    "for i in range(class_limit):\n",
    "    plot_order.append((i,i))\n",
    "    pairs.append([])\n",
    "    for k in class_pair[i]:\n",
    "        plot_order.append((k,i))\n",
    "        pairs.append([])\n",
    "        \n",
    "        \n",
    "repeat_dict = {}\n",
    "for i in range(class_limit):\n",
    "    repeat_dict[i] =random.sample(range(5000*i,(5000*(i+1))-1,1),repeat_k)\n",
    "    #for k in repeat_k:\n",
    "        \n",
    "print(plot_order)\n",
    "od = dictionary\n",
    "metrics={'train_accs':[],\n",
    "         'train_losses':[],\n",
    "         'test_accs':[],\n",
    "         'test_losses':[]}\n",
    "\n",
    "for run in range(3): \n",
    "    wandb.init(\n",
    "      # Set the project where this run will be logged\n",
    "      project=\"Local Elasticity\", \n",
    "      # We pass a run name (otherwise it’ll be randomly assigned, like sunshine-lollypop-10)\n",
    "      name=f\"Experiment_SuHe_CIFAR_{run+1}\", \n",
    "      # Track hyperparameters and run metadata\n",
    "      config={\n",
    "      \"learning_rate\": 0.0001,\n",
    "      \"epsilon\" : 1e-8,\n",
    "      \"architecture\": \"Resnet_18\",\n",
    "      \"dataset\": \"CIFAR-10\",\n",
    "      \"epochs\": 7,\n",
    "      })\n",
    "    \n",
    "    data_dict={}\n",
    "    for i in range(class_limit):\n",
    "      data_dict[i] = []\n",
    "    \n",
    "    print(data_dict)\n",
    "    for label in range(class_limit):\n",
    "      for i,(inp,target) in enumerate(trainloader_main):\n",
    "        if (class_map[label] == target.item()) and (len(data_dict[label])<=class_size):\n",
    "          data_dict[label].append(inp)\n",
    "        if len(data_dict[label])==class_size:\n",
    "          break\n",
    "\n",
    "    xt=[]\n",
    "    yt=[]\n",
    "    print(data_dict.keys())\n",
    "    for k in data_dict.keys():\n",
    "      xt.append(torch.cat(data_dict[k]))\n",
    "      yt.append(torch.LongTensor([k for _ in range(class_size)]))\n",
    "\n",
    "    xt=torch.cat(xt,0)\n",
    "    yt=torch.cat(yt,0)\n",
    "\n",
    "    train_dataset = torch.utils.data.TensorDataset(xt,torch.nn.functional.one_hot(yt).float())\n",
    "\n",
    "    data_dict_test = {}\n",
    "    flag=0\n",
    "    for i in range(class_limit):\n",
    "      data_dict_test[i] = []\n",
    "    \n",
    "    for label in range(class_limit):\n",
    "      for i,(inp,target) in enumerate(testloader_main):\n",
    "        if (class_map[label] == target.item()) and (len(data_dict_test[label])<=test_class):\n",
    "          data_dict_test[label].append(inp)\n",
    "        if len(data_dict_test[label])==test_class:\n",
    "          break\n",
    "\n",
    "    xt=[]\n",
    "    yt=[]\n",
    "    for k in data_dict_test.keys():\n",
    "      xt.append(torch.cat(data_dict_test[k]))\n",
    "      yt.append(torch.LongTensor([k for _ in range(test_class)]))\n",
    "\n",
    "    xt=torch.cat(xt,0)\n",
    "    yt=torch.cat(yt,0)\n",
    "\n",
    "    test_dataset = torch.utils.data.TensorDataset(xt,torch.nn.functional.one_hot(yt).float())\n",
    "    trainloader = torch.utils.data.DataLoader(train_dataset, batch_size = batch_size, num_workers = 1, shuffle = True,drop_last=True)\n",
    "    testloader = torch.utils.data.DataLoader(test_dataset, batch_size = batch_size, num_workers = 1, shuffle = False,drop_last=True)\n",
    "    \n",
    "    pairs=[]\n",
    "    for i in range(class_limit):\n",
    "        pairs.append([])\n",
    "        for k in class_pair[i]:\n",
    "            pairs.append([])    \n",
    "    net = ResNet.from_name(\"resnet18\")\n",
    "    num_ftrs = net.fc.in_features\n",
    "    net.fc = nn.Linear(num_ftrs, class_limit)\n",
    "    net = net.to(device)\n",
    "    optimizer = optim.Adam(net.parameters(), lr=lr,weight_decay=1e-4)\n",
    "\n",
    "    max_srel=[]\n",
    "    min_srel=[]\n",
    "    train_loss_list=[]\n",
    "    test_loss_list=[]\n",
    "    train_acc_list=[]\n",
    "    test_acc_list=[]\n",
    "    weight_diff=[]\n",
    "    train_loss_iter=[]\n",
    "    test_loss_iter =[]\n",
    "\n",
    "\n",
    "\n",
    "\n",
    "    def train(epoch):\n",
    "        print('\\nEpoch: %d' % epoch)\n",
    "        net.train()\n",
    "        train_loss = 0\n",
    "        correct = 0\n",
    "        total = 0\n",
    "        for batch_idx, (inputs, targets) in enumerate(trainloader):\n",
    "            inputs, targets = inputs.to(device), targets.to(device)\n",
    "            optimizer.zero_grad()\n",
    "            outputs = net(inputs)\n",
    "            loss = criterion(outputs,torch.argmax(targets, dim=1))\n",
    "            loss.backward()\n",
    "            optimizer.step()\n",
    "\n",
    "            _, predicted = outputs.max(1)\n",
    "            correct += predicted.eq(torch.argmax(targets, dim=1)).sum().item()\n",
    "\n",
    "            train_loss += loss.item()\n",
    "            total+=1\n",
    "            if (batch_idx % 9)==0:\n",
    "                for i,order in enumerate(plot_order):\n",
    "                    num, den = order # cat (x'),plane (x)\n",
    "                    srel =0.\n",
    "                    for den_el in repeat_dict[den]: # over all plane examples (x)\n",
    "                        net.eval()\n",
    "                        with torch.no_grad():\n",
    "                            y1 = net(train_dataset[repeat_dict[num]][0].to(device)) #g(x',w)\n",
    "                        net.train()\n",
    "                        model_clone, denominator = get_srel_denom(net,train_dataset[den_el][0],train_dataset[den_el][1])\n",
    "                        model_clone.eval()\n",
    "                        ypred = model_clone(train_dataset[repeat_dict[num]][0].to(device)) #g(x',w+)\n",
    "                        numerators = torch.sqrt(torch.nn.functional.mse_loss(torch.nn.functional.softmax(ypred,dim=-1),torch.nn.functional.softmax(y1,dim=-1),reduction='none')).mean(-1) #KL(g(x',w+(x)),g(x',w))\n",
    "                        # For L1 definition\n",
    "                        ## numerators = torch.nn.functional.l1_loss(torch.nn.functional.softmax(ypred,dim=-1),torch.nn.functional.softmax(y1,dim=-1),reduction='none').mean(-1)\n",
    "                        srels = numerators/denominator\n",
    "                        srel += srels.sum(-1).item()\n",
    "                    pairs[i].append(srel/(repeat_k*repeat_k))\n",
    "        print(\"train_loss is %.3f after epochs %d\"%(train_loss/total,epoch))\n",
    "        print(\"train_acc is %.3f after epochs %d\"%(correct/(total*batch_size),epoch))\n",
    "        train_loss_list.append(train_loss/total)\n",
    "        return (train_loss/total), (correct/(total*batch_size))\n",
    "\n",
    "    num_batches = int(train_length/batch_size)\n",
    "    \n",
    "    def get_test_things():\n",
    "        net.eval()\n",
    "        test_loss = 0\n",
    "        correct = 0\n",
    "        total = 0\n",
    "\n",
    "        with torch.no_grad():\n",
    "            for batch_idx, (inputs, targets) in enumerate(testloader):\n",
    "                inputs, targets = inputs.to(device), targets.to(device)\n",
    "                outputs = net(inputs)\n",
    "                loss = criterion(outputs,torch.argmax(targets, dim=1))\n",
    "\n",
    "                test_loss += loss.item()\n",
    "                total+=1\n",
    "                _, predicted = outputs.max(1)\n",
    "                correct += predicted.eq(torch.argmax(targets, dim=1)).sum().item()\n",
    "        return test_loss/total,correct/(total*batch_size)\n",
    "\n",
    "\n",
    "    def test(epoch):\n",
    "        net.eval()\n",
    "        test_loss = 0\n",
    "        correct = 0\n",
    "        total = 0\n",
    "\n",
    "        with torch.no_grad():\n",
    "            for batch_idx, (inputs, targets) in enumerate(testloader):\n",
    "                inputs, targets = inputs.to(device), targets.to(device)\n",
    "                outputs = net(inputs)\n",
    "                #loss = criterion(outputs, targets)\n",
    "                loss = criterion(outputs,torch.argmax(targets, dim=1))\n",
    "\n",
    "                test_loss += loss.item()\n",
    "                total+=1\n",
    "                _, predicted = outputs.max(1)\n",
    "                correct += predicted.eq(torch.argmax(targets, dim=1)).sum().item()\n",
    "\n",
    "        print(\"test_loss is %.3f after epochs %d\"%(test_loss/total,epoch))\n",
    "        print(\"test_acc is %.3f after epochs %d\"%(correct/(total*batch_size),epoch))\n",
    "        return (test_loss/total), (correct/(total*batch_size))\n",
    "    train_losses=[]\n",
    "    train_accs=[]\n",
    "    test_losses=[]\n",
    "    test_accs=[]\n",
    "    for epoch in range(0,7):\n",
    "        print(\"EPOCH\",epoch)\n",
    "        t0= time.time()\n",
    "        train_loss, train_acc= train(epoch)\n",
    "        test_loss, test_acc= test(epoch)\n",
    "        print(f'Time Elapsed: {time.time()-t0}')\n",
    "        metric = {\"train_loss\": train_loss, \n",
    "                   \"train_acc\": train_acc,\n",
    "                   \"test_loss\": test_loss, \n",
    "                   \"test_acc\": test_acc}\n",
    "        wandb.log(metric)\n",
    "        train_losses.append(train_loss)\n",
    "        train_accs.append(train_acc)\n",
    "        test_losses.append(test_loss)\n",
    "        test_accs.append(test_acc)\n",
    "    pair_iters.append(pairs)\n",
    "    metrics['train_accs'].append(train_accs)\n",
    "    metrics['train_losses'].append(train_losses)\n",
    "    metrics['test_accs'].append(test_accs)\n",
    "    metrics['test_losses'].append(test_losses)\n",
    "    # Close wandb run\n",
    "    wandb.finish()\n",
    "\n",
    "# Saving metrics and S_rel\n",
    "with open(path+'metrics_dictionary_cifar_suhe.pkl', 'wb') as f:\n",
    "    pickle.dump(metrics, f)\n",
    "\n",
    "with open(path+\"pair_iters_cifar_suhe.pkl\", \"wb\") as f:\n",
    "   pickle.dump(pair_iters, f)"
   ]
  },
  {
   "cell_type": "code",
   "execution_count": null,
   "metadata": {
    "colab": {
     "base_uri": "https://localhost:8080/"
    },
    "executionInfo": {
     "elapsed": 686,
     "status": "ok",
     "timestamp": 1673451974842,
     "user": {
      "displayName": "Anirbit Mukherjee",
      "userId": "11049952771471872621"
     },
     "user_tz": 0
    },
    "id": "kloMHanqTNYL",
    "outputId": "8a5839a9-6462-4591-eed8-9b759250d3b8"
   },
   "outputs": [
    {
     "name": "stdout",
     "output_type": "stream",
     "text": [
      "test_acc is 0.743 after epochs 6\n",
      "[0.747 0.672 0.672 0.    0.    0.    0.    0.    0.    0.   ]\n"
     ]
    }
   ],
   "source": [
    "def test_classwise():\n",
    "    net.eval()\n",
    "    correct = 0\n",
    "    total = 0\n",
    "    accuracies=np.zeros(10)\n",
    "    with torch.no_grad():\n",
    "        for batch_idx, (inputs, targets) in enumerate(testloader):\n",
    "            inputs, targets = inputs.to(device), targets.to(device)\n",
    "            outputs = net(inputs)\n",
    "            total+=1\n",
    "            _, predicted = outputs.max(1)\n",
    "            vals=predicted.eq(torch.argmax(targets, dim=1))\n",
    "            correct += vals.sum().item()\n",
    "            \n",
    "            temp=torch.argmax(targets, dim=1).cpu().numpy()\n",
    "            \n",
    "            temp_correct=vals.cpu().numpy()\n",
    "            for i in range(256):\n",
    "                accuracies[temp[i]]+=vals[i]\n",
    "    print(\"test_acc is %.3f after epochs %d\"%(correct/(total*batch_size),epoch))\n",
    "    print(accuracies/1000.0)\n",
    "test_classwise()"
   ]
  },
  {
   "cell_type": "code",
   "execution_count": 4,
   "metadata": {
    "executionInfo": {
     "elapsed": 2019,
     "status": "ok",
     "timestamp": 1675360279991,
     "user": {
      "displayName": "Anirbit Mukherjee",
      "userId": "11049952771471872621"
     },
     "user_tz": 0
    },
    "id": "1yudKT485dSs"
   },
   "outputs": [],
   "source": [
    "# Fetching metrics from Drive\n",
    "with open(path+'pair_iters_cifar_suhe.pkl','rb') as f:\n",
    "    pair_iters=pickle.load(f)\n",
    "\n",
    "with open(path+'metrics_dictionary_cifar_suhe.pkl', 'rb') as f:\n",
    "    metrics=pickle.load(f)"
   ]
  },
  {
   "cell_type": "code",
   "execution_count": 5,
   "metadata": {
    "executionInfo": {
     "elapsed": 2,
     "status": "ok",
     "timestamp": 1675360280610,
     "user": {
      "displayName": "Anirbit Mukherjee",
      "userId": "11049952771471872621"
     },
     "user_tz": 0
    },
    "id": "1rXxQ_9v0A5R"
   },
   "outputs": [],
   "source": [
    "import numpy as np\n",
    "pair_means=np.mean(np.array(pair_iters[0:3]),0)\n",
    "pair_sds=np.std(np.array(pair_iters[0:3]),0)"
   ]
  },
  {
   "cell_type": "code",
   "execution_count": 13,
   "metadata": {
    "colab": {
     "base_uri": "https://localhost:8080/",
     "height": 579
    },
    "executionInfo": {
     "elapsed": 1386,
     "status": "ok",
     "timestamp": 1675361576882,
     "user": {
      "displayName": "Anirbit Mukherjee",
      "userId": "11049952771471872621"
     },
     "user_tz": 0
    },
    "id": "d30E88wgC4eE",
    "outputId": "b6b54eba-243c-421d-8edc-a694f97c549a"
   },
   "outputs": [
    {
     "data": {
      "image/png": "[encoded data removed]",
      "text/plain": [
       "<Figure size 1080x648 with 1 Axes>"
      ]
     },
     "metadata": {
      "needs_background": "light"
     },
     "output_type": "display_data"
    }
   ],
   "source": [
    "import matplotlib.pyplot as plt\n",
    "x=np.arange(49)/7.0\n",
    "plt.figure(figsize=(15,9))\n",
    "plt.plot(x,pair_means[0],label=\"(plane, plane)\",color='blue')\n",
    "plt.fill_between(x,pair_means[0]-pair_sds[0],pair_means[0]+pair_sds[0])\n",
    "plt.plot(x,pair_means[1],label='(car, plane)',color='orange')\n",
    "plt.fill_between(x,pair_means[1]-pair_sds[1],pair_means[1]+pair_sds[1])\n",
    "plt.plot(x,pair_means[2],label='(ship, plane)',color='green')\n",
    "plt.fill_between(x,pair_means[2]-pair_sds[2],pair_means[2]+pair_sds[2])\n",
    "\n",
    "'''\n",
    "plt.plot(range(len(pair_means[0])),pair_means[3],label='11')\n",
    "plt.plot(range(len(pair_means[0])),pair_means[4],label='01')\n",
    "plt.plot(range(len(pair_means[0])),pair_means[5],label='21')\n",
    "plt.plot(range(len(pair_means[0])),pair_means[6],label='22')\n",
    "plt.plot(range(len(pair_means[0])),pair_means[7],label='02')\n",
    "plt.plot(range(len(pair_means[0])),pair_means[8],label='12')\n",
    "'''\n",
    "plt.legend(loc=\"center left\",bbox_to_anchor=(1, 0.5), fontsize=30)\n",
    "plt.xticks(fontsize=20)\n",
    "plt.yticks(fontsize=20)\n",
    "plt.xlabel(\"Epoch\", fontsize=30)\n",
    "plt.ylabel(\"S_rel\", fontsize=30)\n",
    "plt.savefig(path+'Plots/CIFAR_SUHE_plot1.jpg',bbox_inches='tight')"
   ]
  },
  {
   "cell_type": "code",
   "execution_count": 14,
   "metadata": {
    "colab": {
     "base_uri": "https://localhost:8080/",
     "height": 579
    },
    "executionInfo": {
     "elapsed": 1357,
     "status": "ok",
     "timestamp": 1675361583095,
     "user": {
      "displayName": "Anirbit Mukherjee",
      "userId": "11049952771471872621"
     },
     "user_tz": 0
    },
    "id": "DxoT8WJS_Y7F",
    "outputId": "f1c6b760-64a8-4d28-da4d-bb37c7f86d7d"
   },
   "outputs": [
    {
     "data": {
      "image/png": "[encoded data removed]",
      "text/plain": [
       "<Figure size 1080x648 with 1 Axes>"
      ]
     },
     "metadata": {
      "needs_background": "light"
     },
     "output_type": "display_data"
    }
   ],
   "source": [
    "import matplotlib.pyplot as plt\n",
    "x=np.arange(49)/7.0\n",
    "plt.figure(figsize=(15,9))\n",
    "plt.plot(x,pair_means[3],label=\"(car, car)\",color='blue')\n",
    "plt.fill_between(x,pair_means[3]-pair_sds[3],pair_means[3]+pair_sds[3])\n",
    "plt.plot(x,pair_means[4],label='(plane, car)',color='orange')\n",
    "plt.fill_between(x,pair_means[4]-pair_sds[4],pair_means[4]+pair_sds[4])\n",
    "plt.plot(x,pair_means[5],label='(ship, car)',color='green')\n",
    "plt.fill_between(x,pair_means[5]-pair_sds[5],pair_means[5]+pair_sds[5])\n",
    "\n",
    "'''\n",
    "plt.plot(range(len(pair_means[0])),pair_means[3],label='11')\n",
    "plt.plot(range(len(pair_means[0])),pair_means[4],label='01')\n",
    "plt.plot(range(len(pair_means[0])),pair_means[5],label='21')\n",
    "plt.plot(range(len(pair_means[0])),pair_means[6],label='22')\n",
    "plt.plot(range(len(pair_means[0])),pair_means[7],label='02')\n",
    "plt.plot(range(len(pair_means[0])),pair_means[8],label='12')\n",
    "'''\n",
    "plt.legend(loc=\"center left\",bbox_to_anchor=(1, 0.5), fontsize=30)\n",
    "plt.xticks(fontsize=20)\n",
    "plt.yticks(fontsize=20)\n",
    "plt.xlabel(\"Epoch\", fontsize=30)\n",
    "plt.ylabel(\"S_rel\", fontsize=30)\n",
    "plt.savefig(path+'Plots/CIFAR_SUHE_plot2.jpg',bbox_inches='tight')"
   ]
  },
  {
   "cell_type": "code",
   "execution_count": 15,
   "metadata": {
    "colab": {
     "base_uri": "https://localhost:8080/",
     "height": 579
    },
    "executionInfo": {
     "elapsed": 734,
     "status": "ok",
     "timestamp": 1675361586434,
     "user": {
      "displayName": "Anirbit Mukherjee",
      "userId": "11049952771471872621"
     },
     "user_tz": 0
    },
    "id": "9Z2E3awk_qR8",
    "outputId": "6755fc0c-efa7-4679-a2ab-e2d7f9315c35"
   },
   "outputs": [
    {
     "data": {
      "image/png": "[encoded data removed]",
      "text/plain": [
       "<Figure size 1080x648 with 1 Axes>"
      ]
     },
     "metadata": {
      "needs_background": "light"
     },
     "output_type": "display_data"
    }
   ],
   "source": [
    "import matplotlib.pyplot as plt\n",
    "x=np.arange(49)/7.0\n",
    "plt.figure(figsize=(15,9))\n",
    "plt.plot(x,pair_means[6],label=\"(ship, ship)\",color='blue')\n",
    "plt.fill_between(x,pair_means[6]-pair_sds[6],pair_means[6]+pair_sds[6])\n",
    "plt.plot(x,pair_means[7],label='(plane, ship)',color='orange')\n",
    "plt.fill_between(x,pair_means[7]-pair_sds[7],pair_means[7]+pair_sds[7])\n",
    "plt.plot(x,pair_means[8],label='(car, ship)',color='green')\n",
    "plt.fill_between(x,pair_means[8]-pair_sds[8],pair_means[8]+pair_sds[8])\n",
    "\n",
    "'''\n",
    "plt.plot(range(len(pair_means[0])),pair_means[3],label='11')\n",
    "plt.plot(range(len(pair_means[0])),pair_means[4],label='01')\n",
    "plt.plot(range(len(pair_means[0])),pair_means[5],label='21')\n",
    "plt.plot(range(len(pair_means[0])),pair_means[6],label='22')\n",
    "plt.plot(range(len(pair_means[0])),pair_means[7],label='02')\n",
    "plt.plot(range(len(pair_means[0])),pair_means[8],label='12')\n",
    "'''\n",
    "plt.legend(loc=\"center left\",bbox_to_anchor=(1, 0.5), fontsize=30)\n",
    "plt.xticks(fontsize=20)\n",
    "plt.yticks(fontsize=20)\n",
    "plt.xlabel(\"Epoch\", fontsize=30)\n",
    "plt.ylabel(\"S_rel\", fontsize=30)\n",
    "plt.savefig(path+'Plots/CIFAR_SUHE_plot3.jpg',bbox_inches='tight')"
   ]
  },
  {
   "cell_type": "code",
   "execution_count": 16,
   "metadata": {
    "colab": {
     "base_uri": "https://localhost:8080/",
     "height": 579
    },
    "executionInfo": {
     "elapsed": 1394,
     "status": "ok",
     "timestamp": 1675361593658,
     "user": {
      "displayName": "Anirbit Mukherjee",
      "userId": "11049952771471872621"
     },
     "user_tz": 0
    },
    "id": "GXVdn3QCc7Jr",
    "outputId": "1dfa381e-9e6f-49ce-c779-0dd5f9fa8ea9"
   },
   "outputs": [
    {
     "data": {
      "image/png": "[encoded data removed]",
      "text/plain": [
       "<Figure size 1080x648 with 1 Axes>"
      ]
     },
     "metadata": {
      "needs_background": "light"
     },
     "output_type": "display_data"
    }
   ],
   "source": [
    "x=np.arange(7)\n",
    "plt.figure(figsize=(15,9))\n",
    "plt.plot(x,np.mean(metrics['train_accs'],0),label=\"Train\",color='blue')\n",
    "plt.fill_between(x,np.mean(metrics['train_accs'],0)-np.std(metrics['train_accs'],0),np.mean(metrics['train_accs'],0)+np.std(metrics['train_accs'],0))\n",
    "plt.plot(x,np.mean(metrics['test_accs'],0),label=\"Test\",color='orange')\n",
    "plt.fill_between(x,np.mean(metrics['test_accs'],0)-np.std(metrics['test_accs'],0),np.mean(metrics['test_accs'],0)+np.std(metrics['test_accs'],0))\n",
    "plt.legend(loc=\"center left\",bbox_to_anchor=(1, 0.5), fontsize=30)\n",
    "plt.xticks(fontsize=20)\n",
    "plt.yticks(fontsize=20)\n",
    "plt.xlabel(\"Epoch\", fontsize=30)\n",
    "plt.ylabel(\"Accuracy\", fontsize=30)\n",
    "plt.savefig(path+'Plots/CIFAR_SUHE_acc.jpg',bbox_inches='tight')"
   ]
  },
  {
   "cell_type": "code",
   "execution_count": 17,
   "metadata": {
    "colab": {
     "base_uri": "https://localhost:8080/",
     "height": 579
    },
    "executionInfo": {
     "elapsed": 1020,
     "status": "ok",
     "timestamp": 1675361599908,
     "user": {
      "displayName": "Anirbit Mukherjee",
      "userId": "11049952771471872621"
     },
     "user_tz": 0
    },
    "id": "p37FPxX7dKBf",
    "outputId": "a8d4f007-80fe-4b37-f523-d6087beb3f86"
   },
   "outputs": [
    {
     "data": {
      "image/png": "[encoded data removed]",
      "text/plain": [
       "<Figure size 1080x648 with 1 Axes>"
      ]
     },
     "metadata": {
      "needs_background": "light"
     },
     "output_type": "display_data"
    }
   ],
   "source": [
    "x=np.arange(7)\n",
    "plt.figure(figsize=(15,9))\n",
    "plt.plot(x,np.mean(metrics['train_losses'],0),label=\"Train\",color='blue')\n",
    "plt.fill_between(x,np.mean(metrics['train_losses'],0)-np.std(metrics['train_losses'],0),np.mean(metrics['train_losses'],0)+np.std(metrics['train_losses'],0))\n",
    "plt.plot(x,np.mean(metrics['test_losses'],0),label=\"Test\",color='orange')\n",
    "plt.fill_between(x,np.mean(metrics['test_losses'],0)-np.std(metrics['test_losses'],0),np.mean(metrics['test_losses'],0)+np.std(metrics['test_losses'],0))\n",
    "plt.legend(loc=\"center left\",bbox_to_anchor=(1, 0.5), fontsize=30)\n",
    "plt.xticks(fontsize=20)\n",
    "plt.yticks(fontsize=20)\n",
    "plt.xlabel(\"Epoch\", fontsize=30)\n",
    "plt.ylabel(\"Loss\", fontsize=30)\n",
    "plt.savefig(path+'Plots/CIFAR_SUHE_losses.jpg',bbox_inches='tight')"
   ]
  }
 ],
 "metadata": {
  "accelerator": "GPU",
  "colab": {
   "machine_shape": "hm",
   "provenance": []
  },
  "gpuClass": "premium",
  "kernelspec": {
   "display_name": "Python 3 (ipykernel)",
   "language": "python",
   "name": "python3"
  },
  "language_info": {
   "codemirror_mode": {
    "name": "ipython",
    "version": 3
   },
   "file_extension": ".py",
   "mimetype": "text/x-python",
   "name": "python",
   "nbconvert_exporter": "python",
   "pygments_lexer": "ipython3",
   "version": "3.10.8"
  },
  "widgets": {
   "application/vnd.jupyter.widget-state+json": {
    "04a1cdd41c1d4c5795850114a4b1cbc7": {
     "model_module": "@jupyter-widgets/controls",
     "model_module_version": "1.5.0",
     "model_name": "DescriptionStyleModel",
     "state": {
      "_model_module": "@jupyter-widgets/controls",
      "_model_module_version": "1.5.0",
      "_model_name": "DescriptionStyleModel",
      "_view_count": null,
      "_view_module": "@jupyter-widgets/base",
      "_view_module_version": "1.2.0",
      "_view_name": "StyleView",
      "description_width": ""
     }
    },
    "09bb3bb3ca1a424da7d0f71d184ab427": {
     "model_module": "@jupyter-widgets/controls",
     "model_module_version": "1.5.0",
     "model_name": "ProgressStyleModel",
     "state": {
      "_model_module": "@jupyter-widgets/controls",
      "_model_module_version": "1.5.0",
      "_model_name": "ProgressStyleModel",
      "_view_count": null,
      "_view_module": "@jupyter-widgets/base",
      "_view_module_version": "1.2.0",
      "_view_name": "StyleView",
      "bar_color": null,
      "description_width": ""
     }
    },
    "101bed916a954f6ab246abcd883a6833": {
     "model_module": "@jupyter-widgets/base",
     "model_module_version": "1.2.0",
     "model_name": "LayoutModel",
     "state": {
      "_model_module": "@jupyter-widgets/base",
      "_model_module_version": "1.2.0",
      "_model_name": "LayoutModel",
      "_view_count": null,
      "_view_module": "@jupyter-widgets/base",
      "_view_module_version": "1.2.0",
      "_view_name": "LayoutView",
      "align_content": null,
      "align_items": null,
      "align_self": null,
      "border": null,
      "bottom": null,
      "display": null,
      "flex": null,
      "flex_flow": null,
      "grid_area": null,
      "grid_auto_columns": null,
      "grid_auto_flow": null,
      "grid_auto_rows": null,
      "grid_column": null,
      "grid_gap": null,
      "grid_row": null,
      "grid_template_areas": null,
      "grid_template_columns": null,
      "grid_template_rows": null,
      "height": null,
      "justify_content": null,
      "justify_items": null,
      "left": null,
      "margin": null,
      "max_height": null,
      "max_width": null,
      "min_height": null,
      "min_width": null,
      "object_fit": null,
      "object_position": null,
      "order": null,
      "overflow": null,
      "overflow_x": null,
      "overflow_y": null,
      "padding": null,
      "right": null,
      "top": null,
      "visibility": null,
      "width": null
     }
    },
    "146d0886b61642e98d69ebd36fd632a1": {
     "model_module": "@jupyter-widgets/controls",
     "model_module_version": "1.5.0",
     "model_name": "FloatProgressModel",
     "state": {
      "_dom_classes": [],
      "_model_module": "@jupyter-widgets/controls",
      "_model_module_version": "1.5.0",
      "_model_name": "FloatProgressModel",
      "_view_count": null,
      "_view_module": "@jupyter-widgets/controls",
      "_view_module_version": "1.5.0",
      "_view_name": "ProgressView",
      "bar_style": "",
      "description": "",
      "description_tooltip": null,
      "layout": "IPY_MODEL_fe7dbcd97d7e4ece9057b0df07db0244",
      "max": 1,
      "min": 0,
      "orientation": "horizontal",
      "style": "IPY_MODEL_efad282794724640bbc58cc680d609fc",
      "value": 1
     }
    },
    "180baf86d9dd420e9292b7176a60a682": {
     "model_module": "@jupyter-widgets/controls",
     "model_module_version": "1.5.0",
     "model_name": "DescriptionStyleModel",
     "state": {
      "_model_module": "@jupyter-widgets/controls",
      "_model_module_version": "1.5.0",
      "_model_name": "DescriptionStyleModel",
      "_view_count": null,
      "_view_module": "@jupyter-widgets/base",
      "_view_module_version": "1.2.0",
      "_view_name": "StyleView",
      "description_width": ""
     }
    },
    "31d6603bd6484ab2a0a109c9acf9416b": {
     "model_module": "@jupyter-widgets/base",
     "model_module_version": "1.2.0",
     "model_name": "LayoutModel",
     "state": {
      "_model_module": "@jupyter-widgets/base",
      "_model_module_version": "1.2.0",
      "_model_name": "LayoutModel",
      "_view_count": null,
      "_view_module": "@jupyter-widgets/base",
      "_view_module_version": "1.2.0",
      "_view_name": "LayoutView",
      "align_content": null,
      "align_items": null,
      "align_self": null,
      "border": null,
      "bottom": null,
      "display": null,
      "flex": null,
      "flex_flow": null,
      "grid_area": null,
      "grid_auto_columns": null,
      "grid_auto_flow": null,
      "grid_auto_rows": null,
      "grid_column": null,
      "grid_gap": null,
      "grid_row": null,
      "grid_template_areas": null,
      "grid_template_columns": null,
      "grid_template_rows": null,
      "height": null,
      "justify_content": null,
      "justify_items": null,
      "left": null,
      "margin": null,
      "max_height": null,
      "max_width": null,
      "min_height": null,
      "min_width": null,
      "object_fit": null,
      "object_position": null,
      "order": null,
      "overflow": null,
      "overflow_x": null,
      "overflow_y": null,
      "padding": null,
      "right": null,
      "top": null,
      "visibility": null,
      "width": null
     }
    },
    "4b16d9cb42584944aee61c0fc096a275": {
     "model_module": "@jupyter-widgets/controls",
     "model_module_version": "1.5.0",
     "model_name": "VBoxModel",
     "state": {
      "_dom_classes": [],
      "_model_module": "@jupyter-widgets/controls",
      "_model_module_version": "1.5.0",
      "_model_name": "VBoxModel",
      "_view_count": null,
      "_view_module": "@jupyter-widgets/controls",
      "_view_module_version": "1.5.0",
      "_view_name": "VBoxView",
      "box_style": "",
      "children": [
       "IPY_MODEL_8854b871741244b28ebd24e7be66244e",
       "IPY_MODEL_52b718ca674b47f8ad7c95e019f3fc97"
      ],
      "layout": "IPY_MODEL_f3239910d3a8495597e2b92f5be25cbb"
     }
    },
    "52b718ca674b47f8ad7c95e019f3fc97": {
     "model_module": "@jupyter-widgets/controls",
     "model_module_version": "1.5.0",
     "model_name": "FloatProgressModel",
     "state": {
      "_dom_classes": [],
      "_model_module": "@jupyter-widgets/controls",
      "_model_module_version": "1.5.0",
      "_model_name": "FloatProgressModel",
      "_view_count": null,
      "_view_module": "@jupyter-widgets/controls",
      "_view_module_version": "1.5.0",
      "_view_name": "ProgressView",
      "bar_style": "",
      "description": "",
      "description_tooltip": null,
      "layout": "IPY_MODEL_6d63c7e7c65c46a8add04067f741e968",
      "max": 1,
      "min": 0,
      "orientation": "horizontal",
      "style": "IPY_MODEL_ec977267dcae4aae908d7f969a4dbf53",
      "value": 1
     }
    },
    "538f612fb10c4edea776c3a6b014f72d": {
     "model_module": "@jupyter-widgets/controls",
     "model_module_version": "1.5.0",
     "model_name": "HBoxModel",
     "state": {
      "_dom_classes": [],
      "_model_module": "@jupyter-widgets/controls",
      "_model_module_version": "1.5.0",
      "_model_name": "HBoxModel",
      "_view_count": null,
      "_view_module": "@jupyter-widgets/controls",
      "_view_module_version": "1.5.0",
      "_view_name": "HBoxView",
      "box_style": "",
      "children": [
       "IPY_MODEL_d44ba2c8dd334db9acb8ef0410f5f51a",
       "IPY_MODEL_9a85a940454f4189ba076b79580c1534",
       "IPY_MODEL_edc44565d6bf4b6f94b7a84922e55850"
      ],
      "layout": "IPY_MODEL_b98ea2713b3349b6a11826c54cce0301"
     }
    },
    "63df8be03d3a47b78fcc57fe3009bae5": {
     "model_module": "@jupyter-widgets/base",
     "model_module_version": "1.2.0",
     "model_name": "LayoutModel",
     "state": {
      "_model_module": "@jupyter-widgets/base",
      "_model_module_version": "1.2.0",
      "_model_name": "LayoutModel",
      "_view_count": null,
      "_view_module": "@jupyter-widgets/base",
      "_view_module_version": "1.2.0",
      "_view_name": "LayoutView",
      "align_content": null,
      "align_items": null,
      "align_self": null,
      "border": null,
      "bottom": null,
      "display": null,
      "flex": null,
      "flex_flow": null,
      "grid_area": null,
      "grid_auto_columns": null,
      "grid_auto_flow": null,
      "grid_auto_rows": null,
      "grid_column": null,
      "grid_gap": null,
      "grid_row": null,
      "grid_template_areas": null,
      "grid_template_columns": null,
      "grid_template_rows": null,
      "height": null,
      "justify_content": null,
      "justify_items": null,
      "left": null,
      "margin": null,
      "max_height": null,
      "max_width": null,
      "min_height": null,
      "min_width": null,
      "object_fit": null,
      "object_position": null,
      "order": null,
      "overflow": null,
      "overflow_x": null,
      "overflow_y": null,
      "padding": null,
      "right": null,
      "top": null,
      "visibility": null,
      "width": null
     }
    },
    "6d63c7e7c65c46a8add04067f741e968": {
     "model_module": "@jupyter-widgets/base",
     "model_module_version": "1.2.0",
     "model_name": "LayoutModel",
     "state": {
      "_model_module": "@jupyter-widgets/base",
      "_model_module_version": "1.2.0",
      "_model_name": "LayoutModel",
      "_view_count": null,
      "_view_module": "@jupyter-widgets/base",
      "_view_module_version": "1.2.0",
      "_view_name": "LayoutView",
      "align_content": null,
      "align_items": null,
      "align_self": null,
      "border": null,
      "bottom": null,
      "display": null,
      "flex": null,
      "flex_flow": null,
      "grid_area": null,
      "grid_auto_columns": null,
      "grid_auto_flow": null,
      "grid_auto_rows": null,
      "grid_column": null,
      "grid_gap": null,
      "grid_row": null,
      "grid_template_areas": null,
      "grid_template_columns": null,
      "grid_template_rows": null,
      "height": null,
      "justify_content": null,
      "justify_items": null,
      "left": null,
      "margin": null,
      "max_height": null,
      "max_width": null,
      "min_height": null,
      "min_width": null,
      "object_fit": null,
      "object_position": null,
      "order": null,
      "overflow": null,
      "overflow_x": null,
      "overflow_y": null,
      "padding": null,
      "right": null,
      "top": null,
      "visibility": null,
      "width": null
     }
    },
    "83936d9f6ed14993891a88b61dd2d84f": {
     "model_module": "@jupyter-widgets/controls",
     "model_module_version": "1.5.0",
     "model_name": "LabelModel",
     "state": {
      "_dom_classes": [],
      "_model_module": "@jupyter-widgets/controls",
      "_model_module_version": "1.5.0",
      "_model_name": "LabelModel",
      "_view_count": null,
      "_view_module": "@jupyter-widgets/controls",
      "_view_module_version": "1.5.0",
      "_view_name": "LabelView",
      "description": "",
      "description_tooltip": null,
      "layout": "IPY_MODEL_101bed916a954f6ab246abcd883a6833",
      "placeholder": "​",
      "style": "IPY_MODEL_180baf86d9dd420e9292b7176a60a682",
      "value": "Waiting for wandb.init()...\r"
     }
    },
    "8854b871741244b28ebd24e7be66244e": {
     "model_module": "@jupyter-widgets/controls",
     "model_module_version": "1.5.0",
     "model_name": "LabelModel",
     "state": {
      "_dom_classes": [],
      "_model_module": "@jupyter-widgets/controls",
      "_model_module_version": "1.5.0",
      "_model_name": "LabelModel",
      "_view_count": null,
      "_view_module": "@jupyter-widgets/controls",
      "_view_module_version": "1.5.0",
      "_view_name": "LabelView",
      "description": "",
      "description_tooltip": null,
      "layout": "IPY_MODEL_ca741d9c1ccf4b0daa461bf895da1e68",
      "placeholder": "​",
      "style": "IPY_MODEL_f3b797c9de5d4f7d85b4e22ba4f9333d",
      "value": "0.001 MB of 0.001 MB uploaded (0.000 MB deduped)\r"
     }
    },
    "8daea246343b46ef8f12892eff7a5f60": {
     "model_module": "@jupyter-widgets/base",
     "model_module_version": "1.2.0",
     "model_name": "LayoutModel",
     "state": {
      "_model_module": "@jupyter-widgets/base",
      "_model_module_version": "1.2.0",
      "_model_name": "LayoutModel",
      "_view_count": null,
      "_view_module": "@jupyter-widgets/base",
      "_view_module_version": "1.2.0",
      "_view_name": "LayoutView",
      "align_content": null,
      "align_items": null,
      "align_self": null,
      "border": null,
      "bottom": null,
      "display": null,
      "flex": null,
      "flex_flow": null,
      "grid_area": null,
      "grid_auto_columns": null,
      "grid_auto_flow": null,
      "grid_auto_rows": null,
      "grid_column": null,
      "grid_gap": null,
      "grid_row": null,
      "grid_template_areas": null,
      "grid_template_columns": null,
      "grid_template_rows": null,
      "height": null,
      "justify_content": null,
      "justify_items": null,
      "left": null,
      "margin": null,
      "max_height": null,
      "max_width": null,
      "min_height": null,
      "min_width": null,
      "object_fit": null,
      "object_position": null,
      "order": null,
      "overflow": null,
      "overflow_x": null,
      "overflow_y": null,
      "padding": null,
      "right": null,
      "top": null,
      "visibility": null,
      "width": null
     }
    },
    "9a85a940454f4189ba076b79580c1534": {
     "model_module": "@jupyter-widgets/controls",
     "model_module_version": "1.5.0",
     "model_name": "FloatProgressModel",
     "state": {
      "_dom_classes": [],
      "_model_module": "@jupyter-widgets/controls",
      "_model_module_version": "1.5.0",
      "_model_name": "FloatProgressModel",
      "_view_count": null,
      "_view_module": "@jupyter-widgets/controls",
      "_view_module_version": "1.5.0",
      "_view_name": "ProgressView",
      "bar_style": "success",
      "description": "",
      "description_tooltip": null,
      "layout": "IPY_MODEL_63df8be03d3a47b78fcc57fe3009bae5",
      "max": 170498071,
      "min": 0,
      "orientation": "horizontal",
      "style": "IPY_MODEL_09bb3bb3ca1a424da7d0f71d184ab427",
      "value": 170498071
     }
    },
    "b98ea2713b3349b6a11826c54cce0301": {
     "model_module": "@jupyter-widgets/base",
     "model_module_version": "1.2.0",
     "model_name": "LayoutModel",
     "state": {
      "_model_module": "@jupyter-widgets/base",
      "_model_module_version": "1.2.0",
      "_model_name": "LayoutModel",
      "_view_count": null,
      "_view_module": "@jupyter-widgets/base",
      "_view_module_version": "1.2.0",
      "_view_name": "LayoutView",
      "align_content": null,
      "align_items": null,
      "align_self": null,
      "border": null,
      "bottom": null,
      "display": null,
      "flex": null,
      "flex_flow": null,
      "grid_area": null,
      "grid_auto_columns": null,
      "grid_auto_flow": null,
      "grid_auto_rows": null,
      "grid_column": null,
      "grid_gap": null,
      "grid_row": null,
      "grid_template_areas": null,
      "grid_template_columns": null,
      "grid_template_rows": null,
      "height": null,
      "justify_content": null,
      "justify_items": null,
      "left": null,
      "margin": null,
      "max_height": null,
      "max_width": null,
      "min_height": null,
      "min_width": null,
      "object_fit": null,
      "object_position": null,
      "order": null,
      "overflow": null,
      "overflow_x": null,
      "overflow_y": null,
      "padding": null,
      "right": null,
      "top": null,
      "visibility": null,
      "width": null
     }
    },
    "bd8d510c2ecb449f9438dcdb7447aaf5": {
     "model_module": "@jupyter-widgets/controls",
     "model_module_version": "1.5.0",
     "model_name": "VBoxModel",
     "state": {
      "_dom_classes": [],
      "_model_module": "@jupyter-widgets/controls",
      "_model_module_version": "1.5.0",
      "_model_name": "VBoxModel",
      "_view_count": null,
      "_view_module": "@jupyter-widgets/controls",
      "_view_module_version": "1.5.0",
      "_view_name": "VBoxView",
      "box_style": "",
      "children": [
       "IPY_MODEL_83936d9f6ed14993891a88b61dd2d84f",
       "IPY_MODEL_146d0886b61642e98d69ebd36fd632a1"
      ],
      "layout": "IPY_MODEL_8daea246343b46ef8f12892eff7a5f60"
     }
    },
    "ca741d9c1ccf4b0daa461bf895da1e68": {
     "model_module": "@jupyter-widgets/base",
     "model_module_version": "1.2.0",
     "model_name": "LayoutModel",
     "state": {
      "_model_module": "@jupyter-widgets/base",
      "_model_module_version": "1.2.0",
      "_model_name": "LayoutModel",
      "_view_count": null,
      "_view_module": "@jupyter-widgets/base",
      "_view_module_version": "1.2.0",
      "_view_name": "LayoutView",
      "align_content": null,
      "align_items": null,
      "align_self": null,
      "border": null,
      "bottom": null,
      "display": null,
      "flex": null,
      "flex_flow": null,
      "grid_area": null,
      "grid_auto_columns": null,
      "grid_auto_flow": null,
      "grid_auto_rows": null,
      "grid_column": null,
      "grid_gap": null,
      "grid_row": null,
      "grid_template_areas": null,
      "grid_template_columns": null,
      "grid_template_rows": null,
      "height": null,
      "justify_content": null,
      "justify_items": null,
      "left": null,
      "margin": null,
      "max_height": null,
      "max_width": null,
      "min_height": null,
      "min_width": null,
      "object_fit": null,
      "object_position": null,
      "order": null,
      "overflow": null,
      "overflow_x": null,
      "overflow_y": null,
      "padding": null,
      "right": null,
      "top": null,
      "visibility": null,
      "width": null
     }
    },
    "cc48a41340704883a054259760599d69": {
     "model_module": "@jupyter-widgets/controls",
     "model_module_version": "1.5.0",
     "model_name": "DescriptionStyleModel",
     "state": {
      "_model_module": "@jupyter-widgets/controls",
      "_model_module_version": "1.5.0",
      "_model_name": "DescriptionStyleModel",
      "_view_count": null,
      "_view_module": "@jupyter-widgets/base",
      "_view_module_version": "1.2.0",
      "_view_name": "StyleView",
      "description_width": ""
     }
    },
    "d44ba2c8dd334db9acb8ef0410f5f51a": {
     "model_module": "@jupyter-widgets/controls",
     "model_module_version": "1.5.0",
     "model_name": "HTMLModel",
     "state": {
      "_dom_classes": [],
      "_model_module": "@jupyter-widgets/controls",
      "_model_module_version": "1.5.0",
      "_model_name": "HTMLModel",
      "_view_count": null,
      "_view_module": "@jupyter-widgets/controls",
      "_view_module_version": "1.5.0",
      "_view_name": "HTMLView",
      "description": "",
      "description_tooltip": null,
      "layout": "IPY_MODEL_fd606054b33c412ea5b4549e27574537",
      "placeholder": "​",
      "style": "IPY_MODEL_04a1cdd41c1d4c5795850114a4b1cbc7",
      "value": "100%"
     }
    },
    "ec977267dcae4aae908d7f969a4dbf53": {
     "model_module": "@jupyter-widgets/controls",
     "model_module_version": "1.5.0",
     "model_name": "ProgressStyleModel",
     "state": {
      "_model_module": "@jupyter-widgets/controls",
      "_model_module_version": "1.5.0",
      "_model_name": "ProgressStyleModel",
      "_view_count": null,
      "_view_module": "@jupyter-widgets/base",
      "_view_module_version": "1.2.0",
      "_view_name": "StyleView",
      "bar_color": null,
      "description_width": ""
     }
    },
    "edc44565d6bf4b6f94b7a84922e55850": {
     "model_module": "@jupyter-widgets/controls",
     "model_module_version": "1.5.0",
     "model_name": "HTMLModel",
     "state": {
      "_dom_classes": [],
      "_model_module": "@jupyter-widgets/controls",
      "_model_module_version": "1.5.0",
      "_model_name": "HTMLModel",
      "_view_count": null,
      "_view_module": "@jupyter-widgets/controls",
      "_view_module_version": "1.5.0",
      "_view_name": "HTMLView",
      "description": "",
      "description_tooltip": null,
      "layout": "IPY_MODEL_31d6603bd6484ab2a0a109c9acf9416b",
      "placeholder": "​",
      "style": "IPY_MODEL_cc48a41340704883a054259760599d69",
      "value": " 170498071/170498071 [00:05&lt;00:00, 31281413.30it/s]"
     }
    },
    "efad282794724640bbc58cc680d609fc": {
     "model_module": "@jupyter-widgets/controls",
     "model_module_version": "1.5.0",
     "model_name": "ProgressStyleModel",
     "state": {
      "_model_module": "@jupyter-widgets/controls",
      "_model_module_version": "1.5.0",
      "_model_name": "ProgressStyleModel",
      "_view_count": null,
      "_view_module": "@jupyter-widgets/base",
      "_view_module_version": "1.2.0",
      "_view_name": "StyleView",
      "bar_color": null,
      "description_width": ""
     }
    },
    "f3239910d3a8495597e2b92f5be25cbb": {
     "model_module": "@jupyter-widgets/base",
     "model_module_version": "1.2.0",
     "model_name": "LayoutModel",
     "state": {
      "_model_module": "@jupyter-widgets/base",
      "_model_module_version": "1.2.0",
      "_model_name": "LayoutModel",
      "_view_count": null,
      "_view_module": "@jupyter-widgets/base",
      "_view_module_version": "1.2.0",
      "_view_name": "LayoutView",
      "align_content": null,
      "align_items": null,
      "align_self": null,
      "border": null,
      "bottom": null,
      "display": null,
      "flex": null,
      "flex_flow": null,
      "grid_area": null,
      "grid_auto_columns": null,
      "grid_auto_flow": null,
      "grid_auto_rows": null,
      "grid_column": null,
      "grid_gap": null,
      "grid_row": null,
      "grid_template_areas": null,
      "grid_template_columns": null,
      "grid_template_rows": null,
      "height": null,
      "justify_content": null,
      "justify_items": null,
      "left": null,
      "margin": null,
      "max_height": null,
      "max_width": null,
      "min_height": null,
      "min_width": null,
      "object_fit": null,
      "object_position": null,
      "order": null,
      "overflow": null,
      "overflow_x": null,
      "overflow_y": null,
      "padding": null,
      "right": null,
      "top": null,
      "visibility": null,
      "width": null
     }
    },
    "f3b797c9de5d4f7d85b4e22ba4f9333d": {
     "model_module": "@jupyter-widgets/controls",
     "model_module_version": "1.5.0",
     "model_name": "DescriptionStyleModel",
     "state": {
      "_model_module": "@jupyter-widgets/controls",
      "_model_module_version": "1.5.0",
      "_model_name": "DescriptionStyleModel",
      "_view_count": null,
      "_view_module": "@jupyter-widgets/base",
      "_view_module_version": "1.2.0",
      "_view_name": "StyleView",
      "description_width": ""
     }
    },
    "fd606054b33c412ea5b4549e27574537": {
     "model_module": "@jupyter-widgets/base",
     "model_module_version": "1.2.0",
     "model_name": "LayoutModel",
     "state": {
      "_model_module": "@jupyter-widgets/base",
      "_model_module_version": "1.2.0",
      "_model_name": "LayoutModel",
      "_view_count": null,
      "_view_module": "@jupyter-widgets/base",
      "_view_module_version": "1.2.0",
      "_view_name": "LayoutView",
      "align_content": null,
      "align_items": null,
      "align_self": null,
      "border": null,
      "bottom": null,
      "display": null,
      "flex": null,
      "flex_flow": null,
      "grid_area": null,
      "grid_auto_columns": null,
      "grid_auto_flow": null,
      "grid_auto_rows": null,
      "grid_column": null,
      "grid_gap": null,
      "grid_row": null,
      "grid_template_areas": null,
      "grid_template_columns": null,
      "grid_template_rows": null,
      "height": null,
      "justify_content": null,
      "justify_items": null,
      "left": null,
      "margin": null,
      "max_height": null,
      "max_width": null,
      "min_height": null,
      "min_width": null,
      "object_fit": null,
      "object_position": null,
      "order": null,
      "overflow": null,
      "overflow_x": null,
      "overflow_y": null,
      "padding": null,
      "right": null,
      "top": null,
      "visibility": null,
      "width": null
     }
    },
    "fe7dbcd97d7e4ece9057b0df07db0244": {
     "model_module": "@jupyter-widgets/base",
     "model_module_version": "1.2.0",
     "model_name": "LayoutModel",
     "state": {
      "_model_module": "@jupyter-widgets/base",
      "_model_module_version": "1.2.0",
      "_model_name": "LayoutModel",
      "_view_count": null,
      "_view_module": "@jupyter-widgets/base",
      "_view_module_version": "1.2.0",
      "_view_name": "LayoutView",
      "align_content": null,
      "align_items": null,
      "align_self": null,
      "border": null,
      "bottom": null,
      "display": null,
      "flex": null,
      "flex_flow": null,
      "grid_area": null,
      "grid_auto_columns": null,
      "grid_auto_flow": null,
      "grid_auto_rows": null,
      "grid_column": null,
      "grid_gap": null,
      "grid_row": null,
      "grid_template_areas": null,
      "grid_template_columns": null,
      "grid_template_rows": null,
      "height": null,
      "justify_content": null,
      "justify_items": null,
      "left": null,
      "margin": null,
      "max_height": null,
      "max_width": null,
      "min_height": null,
      "min_width": null,
      "object_fit": null,
      "object_position": null,
      "order": null,
      "overflow": null,
      "overflow_x": null,
      "overflow_y": null,
      "padding": null,
      "right": null,
      "top": null,
      "visibility": null,
      "width": null
     }
    }
   }
  }
 },
 "nbformat": 4,
 "nbformat_minor": 4
}
